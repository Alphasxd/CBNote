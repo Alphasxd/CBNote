{
 "cells": [
  {
   "cell_type": "markdown",
   "id": "f33c8898-df51-4ad4-a390-9d1a7055eb78",
   "metadata": {},
   "source": [
    "Many parts of the code used in this notebook are copied from the following repos and modified as needed to adapt to the example being demonstrated here:\n",
    "* https://github.com/PacktPublishing/Mastering-Reinforcement-Learning-with-Python/blob/master/Chapter03/Contextual%20Bandits.ipynb\n",
    "* https://github.com/jldbc/bandits/tree/master/bandits\n",
    "\n",
    "The MIT license notices of these repos can be found in the **References** section below."
   ]
  },
  {
   "cell_type": "markdown",
   "id": "f2987db6-a287-4288-8282-0c2e70304b67",
   "metadata": {},
   "source": [
    "# Setup"
   ]
  },
  {
   "cell_type": "code",
   "execution_count": 1,
   "id": "d5f3b7bd-5a92-49a5-842e-4ae3df8df7a7",
   "metadata": {},
   "outputs": [],
   "source": [
    "# import necessary libraries\n",
    "\n",
    "import numpy as np\n",
    "import pandas as pd\n",
    "from scipy.optimize import minimize\n",
    "import matplotlib.pyplot as plt\n",
    "import warnings\n",
    "\n",
    "warnings.filterwarnings('ignore')"
   ]
  },
  {
   "cell_type": "code",
   "execution_count": 2,
   "id": "d176a1b9-fb3a-48d1-a3f5-05ccda9cf6ec",
   "metadata": {},
   "outputs": [],
   "source": [
    "# define a class with necessary functions for generating users for the simulation below\n",
    "# data generation process works as follows:\n",
    "#   user is assigned a set of random context values (location, device, age)\n",
    "#   user's probability of clicking on an ad depends on their context as well as whether they see the C or T ad\n",
    "#   the probability of clicking is modeled as a logistic function of context (different parameters for C and T)\n",
    "\n",
    "class UserGenerator(object):\n",
    "    def __init__(self):\n",
    "        self.beta = {}\n",
    "        self.beta['C'] = np.array([-6, -0.1, 1, 0.1])\n",
    "        self.beta['T'] = np.array([-3.5, -0.1, -3, 0.1]) \n",
    "        self.context = None\n",
    "        \n",
    "    def logistic(self, beta, context):\n",
    "        f = np.dot(beta, context)\n",
    "        p = 1 / (1 + np.exp(-f))\n",
    "        return p\n",
    "    \n",
    "    def display_ad(self, ad):\n",
    "        if ad in ['C', 'T']:\n",
    "            p = self.logistic(self.beta[ad], self.context)\n",
    "            reward = np.random.binomial(n=1, p=p)\n",
    "            return reward\n",
    "        else:\n",
    "            raise Exception('Unknown ad!')      \n",
    "    \n",
    "    def generate_user_with_context(self):\n",
    "        location = np.random.binomial(n=1, p=0.6)\n",
    "        device = np.random.binomial(n=1, p=0.8)\n",
    "        age = 10 + int(np.random.beta(2, 3) * 60)\n",
    "        self.context = [1, device, location, age]\n",
    "        return self.context"
   ]
  },
  {
   "cell_type": "code",
   "execution_count": 3,
   "id": "b3a938eb-74f2-46a3-9730-1efcf3a98866",
   "metadata": {},
   "outputs": [],
   "source": [
    "# define random policy for A/B test\n",
    "# an ad (C or T) is selected randomly with probabilities p\n",
    "\n",
    "def ab_policy(arms, slate_size=1, p=[0.6, 0.4]):\n",
    "    recs = np.random.choice(arms, size=(slate_size), replace=False, p=p)\n",
    "    return recs"
   ]
  },
  {
   "cell_type": "code",
   "execution_count": 4,
   "id": "435de65b-706b-4f75-ab77-dbd24b931def",
   "metadata": {},
   "outputs": [],
   "source": [
    "# define e-greedy policy for MAB\n",
    "# policy first decides whether to explore or exploit\n",
    "# if explore is selected, then an ad (C or T) is chosen randomly\n",
    "# if exploit is selected, then the ad that currently has the highest average y is chosen\n",
    "\n",
    "def mab_policy_egreedy(df, arms, epsilon=0.15, slate_size=1):\n",
    "    explore = np.random.binomial(1, epsilon)\n",
    "    if explore == 1 or df.shape[0]==0:\n",
    "        recs = np.random.choice(arms, size=(slate_size), replace=False)\n",
    "    else:\n",
    "        scores = df[['d', 'y']].groupby('d').agg({'y': ['mean', 'count']})\n",
    "        scores.columns = ['mean', 'count']\n",
    "        scores['d'] = scores.index\n",
    "        scores = scores.sort_values('mean', ascending=False)\n",
    "        recs = scores.loc[scores.index[0:slate_size], 'd'].values\n",
    "    return recs"
   ]
  },
  {
   "cell_type": "code",
   "execution_count": 5,
   "id": "2e3d6143-0242-4866-8753-2bcfa329e96e",
   "metadata": {},
   "outputs": [],
   "source": [
    "# define a function to be used when deciding whether to keep a sample or not when doing A/B and MAB replay\n",
    "# function compares the selected ad (C or T) to the logged ads in the batch and only keeps matching ads\n",
    "\n",
    "def score(history, df, t, batch_size, recs):\n",
    "    actions = df[t:t+batch_size]\n",
    "    actions = actions.loc[actions['d'].isin(recs)]\n",
    "    actions['scoring_round'] = t\n",
    "    history = pd.concat([history, pd.DataFrame(actions)])\n",
    "    action_liked = actions[['d', 'y']]\n",
    "    return history, action_liked"
   ]
  },
  {
   "cell_type": "code",
   "execution_count": 6,
   "id": "faa849d9-659e-482a-ae98-f7c2d14f07b8",
   "metadata": {},
   "outputs": [],
   "source": [
    "# define a regularized logistic regression class to be used with CB to learn the relationship between y and X\n",
    "# separate LR models will be learned for C and T\n",
    "\n",
    "class RegularizedLR(object):\n",
    "    def __init__(self, name, alpha, rlambda, n_dim):\n",
    "        self.name = name\n",
    "        self.alpha = alpha\n",
    "        self.rlambda = rlambda\n",
    "        self.n_dim = n_dim\n",
    "        self.m = np.zeros(n_dim)\n",
    "        self.q = np.ones(n_dim) * rlambda\n",
    "        self.w = self.get_sampled_weights()\n",
    "        \n",
    "    def get_sampled_weights(self):    \n",
    "        w = np.random.normal(self.m, self.alpha * self.q**(-1/2))\n",
    "        return w\n",
    "        \n",
    "    def loss(self, w, *args):\n",
    "        X, y = args\n",
    "        n = len(y)\n",
    "        regularizer = 0.5 * np.dot(self.q, (w - self.m)**2)\n",
    "        pred_loss = sum([np.log(1 + np.exp(np.dot(w, X[j])))\n",
    "                                    - y[j] * np.dot(w, X[j]) for j in range(n)])\n",
    "        return regularizer + pred_loss\n",
    "    \n",
    "    def fit(self, X, y):\n",
    "        if y:\n",
    "            X = np.array(X)\n",
    "            y = np.array(y)\n",
    "            minimization = minimize(self.loss, \n",
    "                                    self.w, \n",
    "                                    args=(X, y), \n",
    "                                    method=\"L-BFGS-B\", \n",
    "                                    bounds=[(-10,10)]*3 + [(-1, 1)],\n",
    "                                    options={'maxiter': 50})\n",
    "            self.w = minimization.x\n",
    "            self.m = self.w\n",
    "            p = (1 + np.exp(-np.matmul(self.w, X.T)))**(-1)\n",
    "            self.q = self.q + np.matmul(p * (1 - p), X**2)\n",
    "    \n",
    "    \n",
    "    def calc_sigmoid(self, w, context):\n",
    "        return 1 / (1 + np.exp(-np.dot(w, context)))\n",
    "    \n",
    "    def get_prediction(self, context):\n",
    "        return self.calc_sigmoid(self.m, context)\n",
    "    \n",
    "    def sample_prediction(self, context):\n",
    "        w = self.get_sampled_weights()\n",
    "        return self.calc_sigmoid(w, context)\n",
    "    \n",
    "    def get_ucb(self, context):\n",
    "        pred = self.calc_sigmoid(self.m, context)\n",
    "        confidence = self.alpha * np.sqrt(np.sum(np.divide(np.array(context)**2, self.q)))\n",
    "        ucb = pred + confidence\n",
    "        return ucb"
   ]
  },
  {
   "cell_type": "code",
   "execution_count": 7,
   "id": "05b67596-2a81-45b3-b103-591dfd697630",
   "metadata": {},
   "outputs": [],
   "source": [
    "# define e-greedy policy for CB\n",
    "# policy first decides whether to explore or exploit\n",
    "# if explore is selected, then an ad (C or T) is chosen randomly\n",
    "# if exploit is selected, then the ad that gives the highest CTR based on the model is returned\n",
    "\n",
    "def cb_policy_egreedy(ad_models, context, eps):\n",
    "    if np.random.uniform() < eps:\n",
    "        return np.random.choice(list(ad_models.keys()))\n",
    "    else:\n",
    "        predictions = {ad: ad_models[ad].get_prediction(context) \n",
    "                       for ad in ad_models}\n",
    "        max_value = max(predictions.values()); \n",
    "        max_keys = [key for key, value in predictions.items() if value == max_value]\n",
    "        return np.random.choice(max_keys)"
   ]
  },
  {
   "cell_type": "markdown",
   "id": "2e77eebc-3eb4-4805-a496-fdf1f758736b",
   "metadata": {},
   "source": [
    "# Simulate logged data"
   ]
  },
  {
   "cell_type": "code",
   "execution_count": 8,
   "id": "e3a974a2-11ea-4b9b-955b-053b30f71884",
   "metadata": {},
   "outputs": [],
   "source": [
    "# we'll simulate 100,000 users that receive T with probability 0.75\n",
    "\n",
    "num_samples = 100000\n",
    "prob_treated = 0.75"
   ]
  },
  {
   "cell_type": "code",
   "execution_count": 9,
   "id": "120e7c36-b599-465f-a40e-a1920fed41c5",
   "metadata": {},
   "outputs": [
    {
     "name": "stdout",
     "output_type": "stream",
     "text": [
      "(100000, 6)\n"
     ]
    },
    {
     "data": {
      "text/html": [
       "<div>\n",
       "<style scoped>\n",
       "    .dataframe tbody tr th:only-of-type {\n",
       "        vertical-align: middle;\n",
       "    }\n",
       "\n",
       "    .dataframe tbody tr th {\n",
       "        vertical-align: top;\n",
       "    }\n",
       "\n",
       "    .dataframe thead th {\n",
       "        text-align: right;\n",
       "    }\n",
       "</style>\n",
       "<table border=\"1\" class=\"dataframe\">\n",
       "  <thead>\n",
       "    <tr style=\"text-align: right;\">\n",
       "      <th></th>\n",
       "      <th>d</th>\n",
       "      <th>y</th>\n",
       "      <th>b0</th>\n",
       "      <th>b1</th>\n",
       "      <th>b2</th>\n",
       "      <th>b3</th>\n",
       "    </tr>\n",
       "  </thead>\n",
       "  <tbody>\n",
       "    <tr>\n",
       "      <th>0</th>\n",
       "      <td>NaN</td>\n",
       "      <td>NaN</td>\n",
       "      <td>NaN</td>\n",
       "      <td>NaN</td>\n",
       "      <td>NaN</td>\n",
       "      <td>NaN</td>\n",
       "    </tr>\n",
       "    <tr>\n",
       "      <th>1</th>\n",
       "      <td>NaN</td>\n",
       "      <td>NaN</td>\n",
       "      <td>NaN</td>\n",
       "      <td>NaN</td>\n",
       "      <td>NaN</td>\n",
       "      <td>NaN</td>\n",
       "    </tr>\n",
       "    <tr>\n",
       "      <th>2</th>\n",
       "      <td>NaN</td>\n",
       "      <td>NaN</td>\n",
       "      <td>NaN</td>\n",
       "      <td>NaN</td>\n",
       "      <td>NaN</td>\n",
       "      <td>NaN</td>\n",
       "    </tr>\n",
       "    <tr>\n",
       "      <th>3</th>\n",
       "      <td>NaN</td>\n",
       "      <td>NaN</td>\n",
       "      <td>NaN</td>\n",
       "      <td>NaN</td>\n",
       "      <td>NaN</td>\n",
       "      <td>NaN</td>\n",
       "    </tr>\n",
       "    <tr>\n",
       "      <th>4</th>\n",
       "      <td>NaN</td>\n",
       "      <td>NaN</td>\n",
       "      <td>NaN</td>\n",
       "      <td>NaN</td>\n",
       "      <td>NaN</td>\n",
       "      <td>NaN</td>\n",
       "    </tr>\n",
       "  </tbody>\n",
       "</table>\n",
       "</div>"
      ],
      "text/plain": [
       "    d   y  b0  b1  b2  b3\n",
       "0 NaN NaN NaN NaN NaN NaN\n",
       "1 NaN NaN NaN NaN NaN NaN\n",
       "2 NaN NaN NaN NaN NaN NaN\n",
       "3 NaN NaN NaN NaN NaN NaN\n",
       "4 NaN NaN NaN NaN NaN NaN"
      ]
     },
     "execution_count": 9,
     "metadata": {},
     "output_type": "execute_result"
    }
   ],
   "source": [
    "# initialize the dataframe\n",
    "\n",
    "df = pd.DataFrame(np.nan, index=range(0, num_samples), columns=['d', 'y', 'b0', 'b1', 'b2', 'b3',])\n",
    "\n",
    "print(df.shape)\n",
    "df.head()"
   ]
  },
  {
   "cell_type": "code",
   "execution_count": 10,
   "id": "21ebd91d-b09d-412a-aaad-c793fcdcde9e",
   "metadata": {},
   "outputs": [
    {
     "name": "stdout",
     "output_type": "stream",
     "text": [
      "(100000, 7)\n"
     ]
    },
    {
     "data": {
      "text/html": [
       "<div>\n",
       "<style scoped>\n",
       "    .dataframe tbody tr th:only-of-type {\n",
       "        vertical-align: middle;\n",
       "    }\n",
       "\n",
       "    .dataframe tbody tr th {\n",
       "        vertical-align: top;\n",
       "    }\n",
       "\n",
       "    .dataframe thead th {\n",
       "        text-align: right;\n",
       "    }\n",
       "</style>\n",
       "<table border=\"1\" class=\"dataframe\">\n",
       "  <thead>\n",
       "    <tr style=\"text-align: right;\">\n",
       "      <th></th>\n",
       "      <th>d</th>\n",
       "      <th>y</th>\n",
       "      <th>b0</th>\n",
       "      <th>b1</th>\n",
       "      <th>b2</th>\n",
       "      <th>b3</th>\n",
       "      <th>t</th>\n",
       "    </tr>\n",
       "  </thead>\n",
       "  <tbody>\n",
       "    <tr>\n",
       "      <th>0</th>\n",
       "      <td>1.0</td>\n",
       "      <td>1.0</td>\n",
       "      <td>1.0</td>\n",
       "      <td>1.0</td>\n",
       "      <td>0.0</td>\n",
       "      <td>38.0</td>\n",
       "      <td>0</td>\n",
       "    </tr>\n",
       "    <tr>\n",
       "      <th>1</th>\n",
       "      <td>0.0</td>\n",
       "      <td>0.0</td>\n",
       "      <td>1.0</td>\n",
       "      <td>1.0</td>\n",
       "      <td>0.0</td>\n",
       "      <td>23.0</td>\n",
       "      <td>1</td>\n",
       "    </tr>\n",
       "    <tr>\n",
       "      <th>2</th>\n",
       "      <td>1.0</td>\n",
       "      <td>0.0</td>\n",
       "      <td>1.0</td>\n",
       "      <td>1.0</td>\n",
       "      <td>0.0</td>\n",
       "      <td>46.0</td>\n",
       "      <td>2</td>\n",
       "    </tr>\n",
       "    <tr>\n",
       "      <th>3</th>\n",
       "      <td>1.0</td>\n",
       "      <td>0.0</td>\n",
       "      <td>1.0</td>\n",
       "      <td>1.0</td>\n",
       "      <td>1.0</td>\n",
       "      <td>16.0</td>\n",
       "      <td>3</td>\n",
       "    </tr>\n",
       "    <tr>\n",
       "      <th>4</th>\n",
       "      <td>1.0</td>\n",
       "      <td>0.0</td>\n",
       "      <td>1.0</td>\n",
       "      <td>1.0</td>\n",
       "      <td>1.0</td>\n",
       "      <td>16.0</td>\n",
       "      <td>4</td>\n",
       "    </tr>\n",
       "  </tbody>\n",
       "</table>\n",
       "</div>"
      ],
      "text/plain": [
       "     d    y   b0   b1   b2    b3  t\n",
       "0  1.0  1.0  1.0  1.0  0.0  38.0  0\n",
       "1  0.0  0.0  1.0  1.0  0.0  23.0  1\n",
       "2  1.0  0.0  1.0  1.0  0.0  46.0  2\n",
       "3  1.0  0.0  1.0  1.0  1.0  16.0  3\n",
       "4  1.0  0.0  1.0  1.0  1.0  16.0  4"
      ]
     },
     "execution_count": 10,
     "metadata": {},
     "output_type": "execute_result"
    }
   ],
   "source": [
    "# generate the users\n",
    "\n",
    "ug = UserGenerator()\n",
    "\n",
    "for i in range(0, num_samples):\n",
    "    context = ug.generate_user_with_context()\n",
    "    d = np.random.binomial(1, prob_treated)\n",
    "    if d == 0:\n",
    "        y = ug.display_ad('C')\n",
    "    else:\n",
    "        y = ug.display_ad('T')\n",
    "    df.loc[i] = [d, y] + context\n",
    "\n",
    "df['t'] = range(0, df.shape[0])\n",
    "\n",
    "print(df.shape)\n",
    "df.head()"
   ]
  },
  {
   "cell_type": "code",
   "execution_count": 11,
   "id": "0a59e033-c375-45c4-8097-dc59f7740210",
   "metadata": {},
   "outputs": [
    {
     "name": "stdout",
     "output_type": "stream",
     "text": [
      "0.74844\n",
      "\n",
      "            y\n",
      "d            \n",
      "0.0  0.160002\n",
      "1.0  0.218802\n"
     ]
    }
   ],
   "source": [
    "# calculate the fraction of users that received T (should be ~0.75)\n",
    "# and the average y values by C and T (T should be higher by ~0.06)\n",
    "\n",
    "print(df.d.mean())\n",
    "print()\n",
    "print(df.groupby('d').mean()[['y']])"
   ]
  },
  {
   "cell_type": "code",
   "execution_count": 12,
   "id": "d5d6b06f-fba2-4ee4-b9be-ae42b6fd9439",
   "metadata": {},
   "outputs": [
    {
     "name": "stdout",
     "output_type": "stream",
     "text": [
      "(100000, 7)\n"
     ]
    },
    {
     "data": {
      "text/html": [
       "<div>\n",
       "<style scoped>\n",
       "    .dataframe tbody tr th:only-of-type {\n",
       "        vertical-align: middle;\n",
       "    }\n",
       "\n",
       "    .dataframe tbody tr th {\n",
       "        vertical-align: top;\n",
       "    }\n",
       "\n",
       "    .dataframe thead th {\n",
       "        text-align: right;\n",
       "    }\n",
       "</style>\n",
       "<table border=\"1\" class=\"dataframe\">\n",
       "  <thead>\n",
       "    <tr style=\"text-align: right;\">\n",
       "      <th></th>\n",
       "      <th>d</th>\n",
       "      <th>y</th>\n",
       "      <th>b0</th>\n",
       "      <th>b1</th>\n",
       "      <th>b2</th>\n",
       "      <th>b3</th>\n",
       "      <th>t</th>\n",
       "    </tr>\n",
       "  </thead>\n",
       "  <tbody>\n",
       "    <tr>\n",
       "      <th>0</th>\n",
       "      <td>0.0</td>\n",
       "      <td>0.0</td>\n",
       "      <td>1.0</td>\n",
       "      <td>0.0</td>\n",
       "      <td>1.0</td>\n",
       "      <td>31.0</td>\n",
       "      <td>0</td>\n",
       "    </tr>\n",
       "    <tr>\n",
       "      <th>1</th>\n",
       "      <td>0.0</td>\n",
       "      <td>0.0</td>\n",
       "      <td>1.0</td>\n",
       "      <td>1.0</td>\n",
       "      <td>0.0</td>\n",
       "      <td>29.0</td>\n",
       "      <td>1</td>\n",
       "    </tr>\n",
       "    <tr>\n",
       "      <th>2</th>\n",
       "      <td>0.0</td>\n",
       "      <td>0.0</td>\n",
       "      <td>1.0</td>\n",
       "      <td>1.0</td>\n",
       "      <td>0.0</td>\n",
       "      <td>30.0</td>\n",
       "      <td>2</td>\n",
       "    </tr>\n",
       "    <tr>\n",
       "      <th>3</th>\n",
       "      <td>0.0</td>\n",
       "      <td>0.0</td>\n",
       "      <td>1.0</td>\n",
       "      <td>0.0</td>\n",
       "      <td>0.0</td>\n",
       "      <td>39.0</td>\n",
       "      <td>3</td>\n",
       "    </tr>\n",
       "    <tr>\n",
       "      <th>4</th>\n",
       "      <td>0.0</td>\n",
       "      <td>0.0</td>\n",
       "      <td>1.0</td>\n",
       "      <td>1.0</td>\n",
       "      <td>0.0</td>\n",
       "      <td>25.0</td>\n",
       "      <td>4</td>\n",
       "    </tr>\n",
       "  </tbody>\n",
       "</table>\n",
       "</div>"
      ],
      "text/plain": [
       "     d    y   b0   b1   b2    b3  t\n",
       "0  0.0  0.0  1.0  0.0  1.0  31.0  0\n",
       "1  0.0  0.0  1.0  1.0  0.0  29.0  1\n",
       "2  0.0  0.0  1.0  1.0  0.0  30.0  2\n",
       "3  0.0  0.0  1.0  0.0  0.0  39.0  3\n",
       "4  0.0  0.0  1.0  1.0  0.0  25.0  4"
      ]
     },
     "execution_count": 12,
     "metadata": {},
     "output_type": "execute_result"
    }
   ],
   "source": [
    "# upsample C and downsample T to get a new dataset that is 50/50% C/T\n",
    "# this step is needed because the original data doesn't assign C/T uniformly at random\n",
    "\n",
    "df0 = df[df.d == 0].sample(50000, replace=True)\n",
    "df1 = df[df.d == 1].sample(50000, replace=True)\n",
    "\n",
    "df = pd.concat([df0, df1], ignore_index=True)\n",
    "\n",
    "df.drop(columns=['t'])\n",
    "\n",
    "df = df.sample(frac=1).reset_index(drop=True)\n",
    "\n",
    "df['t'] = range(0, df.shape[0])\n",
    "\n",
    "print(df.shape)\n",
    "df.head()"
   ]
  },
  {
   "cell_type": "code",
   "execution_count": 13,
   "id": "63933de2-217c-456f-86a8-ce6d5e78b7aa",
   "metadata": {},
   "outputs": [
    {
     "name": "stdout",
     "output_type": "stream",
     "text": [
      "0.5\n",
      "\n",
      "           y\n",
      "d           \n",
      "0.0  0.16108\n",
      "1.0  0.22052\n"
     ]
    }
   ],
   "source": [
    "# double check that fraction T is now 0.5\n",
    "# but the average y values are still very close to before\n",
    "\n",
    "print(df.d.mean())\n",
    "print()\n",
    "print(df.groupby('d').mean()[['y']])"
   ]
  },
  {
   "cell_type": "markdown",
   "id": "ae9ce7a1-f405-40b5-b55b-6830826a58de",
   "metadata": {},
   "source": [
    "# Calculate cumulative reward for A/B"
   ]
  },
  {
   "cell_type": "code",
   "execution_count": 14,
   "id": "a46bf488-ed98-4159-ba5d-de621157ff8b",
   "metadata": {},
   "outputs": [
    {
     "name": "stdout",
     "output_type": "stream",
     "text": [
      "50148\n"
     ]
    },
    {
     "data": {
      "text/plain": [
       "[0.0, 0.0, 1.0, 0.0, 1.0, 0.0, 0.0, 1.0, 0.0, 0.0]"
      ]
     },
     "execution_count": 14,
     "metadata": {},
     "output_type": "execute_result"
    }
   ],
   "source": [
    "history = pd.DataFrame(data=None, columns=df.columns)\n",
    "\n",
    "rewards = []\n",
    "max_time = df.shape[0]\n",
    "\n",
    "batch_size = 100\n",
    "n = 1\n",
    "\n",
    "for t in range(max_time//batch_size):\n",
    "\tt = t * batch_size\n",
    "\trecs = ab_policy(arms=df.d.unique(), slate_size=n, p=[0.6, 0.4])\n",
    "\thistory, action_score = score(history, df, t, batch_size, recs)\n",
    "\tif action_score is not None:\n",
    "\t\taction_score = action_score.y.tolist()\n",
    "\t\trewards.extend(action_score)\n",
    "\n",
    "rewards_ab = rewards\n",
    "history_ab = history\n",
    "\n",
    "print(len(rewards_ab))\n",
    "rewards_ab[:10]"
   ]
  },
  {
   "cell_type": "code",
   "execution_count": 15,
   "id": "40f9688f-db7f-46ba-aacb-d8ce216253e3",
   "metadata": {},
   "outputs": [
    {
     "name": "stdout",
     "output_type": "stream",
     "text": [
      "50148\n"
     ]
    },
    {
     "data": {
      "text/plain": [
       "array([0., 0., 1., 1., 2., 2., 2., 3., 3., 3.])"
      ]
     },
     "execution_count": 15,
     "metadata": {},
     "output_type": "execute_result"
    }
   ],
   "source": [
    "cumulative_ab = np.cumsum(rewards_ab)\n",
    "\n",
    "print(len(cumulative_ab))\n",
    "cumulative_ab[:10]"
   ]
  },
  {
   "cell_type": "markdown",
   "id": "6d029ab1-16ec-49f3-acbc-8e8e740ba9f0",
   "metadata": {},
   "source": [
    "# Calculate cumulative reward for MAB"
   ]
  },
  {
   "cell_type": "code",
   "execution_count": 16,
   "id": "3a64a8cf-5ea7-496e-a580-303d68a19fc2",
   "metadata": {},
   "outputs": [
    {
     "name": "stdout",
     "output_type": "stream",
     "text": [
      "49966\n"
     ]
    },
    {
     "data": {
      "text/plain": [
       "[0.0, 0.0, 1.0, 0.0, 1.0, 0.0, 0.0, 1.0, 0.0, 0.0]"
      ]
     },
     "execution_count": 16,
     "metadata": {},
     "output_type": "execute_result"
    }
   ],
   "source": [
    "history = pd.DataFrame(data=None, columns=df.columns)\n",
    "\n",
    "rewards = []\n",
    "max_time = df.shape[0]\n",
    "\n",
    "batch_size = 100\n",
    "epsilon = 0.15\n",
    "n = 1\n",
    "\n",
    "for t in range(max_time//batch_size):\n",
    "\tt = t * batch_size\n",
    "\trecs = mab_policy_egreedy(df=history.loc[history.t<=t,], arms=df.d.unique(), epsilon=epsilon, slate_size=n)\n",
    "\thistory, action_score = score(history, df, t, batch_size, recs)\n",
    "\tif action_score is not None:\n",
    "\t\taction_score = action_score.y.tolist()\n",
    "\t\trewards.extend(action_score)\n",
    "\n",
    "rewards_mab = rewards\n",
    "history_mab = history\n",
    "\n",
    "print(len(rewards_mab))\n",
    "rewards_mab[:10]"
   ]
  },
  {
   "cell_type": "code",
   "execution_count": 17,
   "id": "2a575ebf-2b78-47b8-af96-c19384328c00",
   "metadata": {},
   "outputs": [
    {
     "name": "stdout",
     "output_type": "stream",
     "text": [
      "49966\n"
     ]
    },
    {
     "data": {
      "text/plain": [
       "array([0., 0., 1., 1., 2., 2., 2., 3., 3., 3.])"
      ]
     },
     "execution_count": 17,
     "metadata": {},
     "output_type": "execute_result"
    }
   ],
   "source": [
    "cumulative_mab = np.cumsum(rewards_mab)\n",
    "\n",
    "print(len(cumulative_mab))\n",
    "cumulative_mab[:10]"
   ]
  },
  {
   "cell_type": "markdown",
   "id": "d12da710-87ef-4ede-855c-9b1944182b09",
   "metadata": {},
   "source": [
    "# Calculate cumulative reward for CB"
   ]
  },
  {
   "cell_type": "code",
   "execution_count": 18,
   "id": "c728bdb0-528f-4ad9-9285-384df90051e5",
   "metadata": {},
   "outputs": [
    {
     "name": "stdout",
     "output_type": "stream",
     "text": [
      "Updating the models at t: 10000\n",
      "Updating the models at t: 20000\n",
      "Updating the models at t: 30000\n",
      "Updating the models at t: 40000\n",
      "Updating the models at t: 50000\n",
      "Updating the models at t: 60000\n",
      "Updating the models at t: 70000\n",
      "Updating the models at t: 80000\n",
      "Updating the models at t: 90000\n",
      "Updating the models at t: 100000\n",
      "\n",
      "50178\n"
     ]
    },
    {
     "data": {
      "text/plain": [
       "[0.0, 0.0, 0.0, 1.0, 0.0, 1.0, 0.0, 0.0, 1.0, 0.0]"
      ]
     },
     "execution_count": 18,
     "metadata": {},
     "output_type": "execute_result"
    }
   ],
   "source": [
    "history = pd.DataFrame(data=None, columns=df.columns)\n",
    "\n",
    "rewards = []\n",
    "max_time = df.shape[0]\n",
    "\n",
    "batch_size = 10000\n",
    "eps = 0.15\n",
    "\n",
    "ad_options = ['C', 'T']\n",
    "\n",
    "alpha, rlambda, n_dim = 0.5, 0.5, 4\n",
    "ad_models = {ad: RegularizedLR(ad, alpha, rlambda, n_dim) for ad in 'CT'}\n",
    "\n",
    "X = {ad: [] for ad in ad_options}\n",
    "y = {ad: [] for ad in ad_options}\n",
    "\n",
    "for t in range(max_time):\n",
    "    \n",
    "    context = list(df.iloc[t][['b0', 'b1', 'b2', 'b3']])\n",
    "    \n",
    "    ad = cb_policy_egreedy(ad_models, context, eps)\n",
    "    \n",
    "    if (ad == 'C' and df.iloc[t]['d'] == 0) or (ad == 'T' and df.iloc[t]['d'] == 1):\n",
    "        \n",
    "        click = df.iloc[t]['y']\n",
    "        \n",
    "        actions = df[t:t+1]\n",
    "        actions['scoring_round'] = t\n",
    "        history = pd.concat([history, pd.DataFrame(actions)])\n",
    "        action_score = actions[['d', 'y']]\n",
    "        action_score = action_score.y.tolist()\n",
    "        rewards.extend(action_score)\n",
    "\n",
    "        X[ad].append(context)\n",
    "        y[ad].append(click)\n",
    "        \n",
    "    if (t + 1) % batch_size == 0:\n",
    "        print(\"Updating the models at t:\", t + 1)\n",
    "        for ad in ad_options:\n",
    "            ad_models[ad].fit(X[ad], y[ad])\n",
    "        X = {ad: [] for ad in ad_options}\n",
    "        y = {ad: [] for ad in ad_options}\n",
    "\n",
    "rewards_cb = rewards\n",
    "history_cb = history\n",
    "\n",
    "print()\n",
    "print(len(rewards_cb))\n",
    "rewards_cb[:10]"
   ]
  },
  {
   "cell_type": "code",
   "execution_count": 19,
   "id": "e7de89ba-a017-45d6-b626-1f2dad4182c9",
   "metadata": {},
   "outputs": [
    {
     "name": "stdout",
     "output_type": "stream",
     "text": [
      "50178\n"
     ]
    },
    {
     "data": {
      "text/plain": [
       "array([0., 0., 0., 1., 1., 2., 2., 2., 3., 3.])"
      ]
     },
     "execution_count": 19,
     "metadata": {},
     "output_type": "execute_result"
    }
   ],
   "source": [
    "cumulative_cb = np.cumsum(rewards_cb)\n",
    "\n",
    "print(len(cumulative_cb))\n",
    "cumulative_cb[:10]"
   ]
  },
  {
   "cell_type": "markdown",
   "id": "b35e50fa-5ba5-4aee-a0d8-cdeb17846fed",
   "metadata": {},
   "source": [
    "# Cumulative reward comparison: A/B vs MAB vs CB"
   ]
  },
  {
   "cell_type": "code",
   "execution_count": 20,
   "id": "4b963e80-dfe0-4ad0-931e-2f4aedf790f8",
   "metadata": {},
   "outputs": [
    {
     "data": {
      "image/png": "[encoded data removed]",
      "text/plain": [
       "<Figure size 640x480 with 1 Axes>"
      ]
     },
     "metadata": {},
     "output_type": "display_data"
    }
   ],
   "source": [
    "plt.plot(cumulative_ab, label='ab')\n",
    "plt.plot(cumulative_mab, label='mab')\n",
    "plt.plot(cumulative_cb, label='cb')\n",
    "\n",
    "plt.xlabel(\"Replay step\")\n",
    "plt.ylabel(\"Cumulative reward\")\n",
    "\n",
    "plt.legend()\n",
    "\n",
    "plt.savefig('ab_vs_mab_vs_cb.png')"
   ]
  },
  {
   "cell_type": "code",
   "execution_count": 21,
   "id": "cf1258da-26d9-42b8-b66d-5b2be4e7c9ed",
   "metadata": {},
   "outputs": [
    {
     "name": "stdout",
     "output_type": "stream",
     "text": [
      "3006.0\n",
      "4604.0\n",
      "1598.0\n"
     ]
    }
   ],
   "source": [
    "print(cumulative_cb[-1] - cumulative_mab[-1])\n",
    "print(cumulative_cb[-1] - cumulative_ab[-1])\n",
    "print(cumulative_mab[-1] - cumulative_ab[-1])"
   ]
  },
  {
   "cell_type": "markdown",
   "id": "9ec1a328-2688-4a5c-99f5-abcb619f33bd",
   "metadata": {},
   "source": [
    "# Reference"
   ]
  },
  {
   "cell_type": "markdown",
   "id": "50aef362-e9fc-4782-80ee-bf840752f3d6",
   "metadata": {},
   "source": [
    "Many parts of the code in this notebook are copied from the following scripts and modified as needed to adapt to the example being demonstrated here:\n",
    "* https://github.com/PacktPublishing/Mastering-Reinforcement-Learning-with-Python/blob/master/Chapter03/Contextual%20Bandits.ipynb\n",
    "* https://github.com/jldbc/bandits/tree/master/bandits\n",
    "\n",
    "The repositories where these code snippets originally appeared in have the following LICENSE notices."
   ]
  },
  {
   "cell_type": "markdown",
   "id": "06928022-9bfc-490e-9bc5-f19ef4ee539a",
   "metadata": {},
   "source": [
    "MIT License\n",
    "\n",
    "Copyright (c) 2020 Packt\n",
    "\n",
    "Permission is hereby granted, free of charge, to any person obtaining a copy\n",
    "of this software and associated documentation files (the \"Software\"), to deal\n",
    "in the Software without restriction, including without limitation the rights\n",
    "to use, copy, modify, merge, publish, distribute, sublicense, and/or sell\n",
    "copies of the Software, and to permit persons to whom the Software is\n",
    "furnished to do so, subject to the following conditions:\n",
    "\n",
    "The above copyright notice and this permission notice shall be included in all\n",
    "copies or substantial portions of the Software.\n",
    "\n",
    "THE SOFTWARE IS PROVIDED \"AS IS\", WITHOUT WARRANTY OF ANY KIND, EXPRESS OR\n",
    "IMPLIED, INCLUDING BUT NOT LIMITED TO THE WARRANTIES OF MERCHANTABILITY,\n",
    "FITNESS FOR A PARTICULAR PURPOSE AND NONINFRINGEMENT. IN NO EVENT SHALL THE\n",
    "AUTHORS OR COPYRIGHT HOLDERS BE LIABLE FOR ANY CLAIM, DAMAGES OR OTHER\n",
    "LIABILITY, WHETHER IN AN ACTION OF CONTRACT, TORT OR OTHERWISE, ARISING FROM,\n",
    "OUT OF OR IN CONNECTION WITH THE SOFTWARE OR THE USE OR OTHER DEALINGS IN THE\n",
    "SOFTWARE."
   ]
  },
  {
   "cell_type": "markdown",
   "id": "5b2cab39-decb-4994-a238-fc726045bb11",
   "metadata": {},
   "source": [
    "MIT License\n",
    "\n",
    "Copyright (c) 2019 James LeDoux\n",
    "\n",
    "Permission is hereby granted, free of charge, to any person obtaining a copy\n",
    "of this software and associated documentation files (the \"Software\"), to deal\n",
    "in the Software without restriction, including without limitation the rights\n",
    "to use, copy, modify, merge, publish, distribute, sublicense, and/or sell\n",
    "copies of the Software, and to permit persons to whom the Software is\n",
    "furnished to do so, subject to the following conditions:\n",
    "\n",
    "The above copyright notice and this permission notice shall be included in all\n",
    "copies or substantial portions of the Software.\n",
    "\n",
    "THE SOFTWARE IS PROVIDED \"AS IS\", WITHOUT WARRANTY OF ANY KIND, EXPRESS OR\n",
    "IMPLIED, INCLUDING BUT NOT LIMITED TO THE WARRANTIES OF MERCHANTABILITY,\n",
    "FITNESS FOR A PARTICULAR PURPOSE AND NONINFRINGEMENT. IN NO EVENT SHALL THE\n",
    "AUTHORS OR COPYRIGHT HOLDERS BE LIABLE FOR ANY CLAIM, DAMAGES OR OTHER\n",
    "LIABILITY, WHETHER IN AN ACTION OF CONTRACT, TORT OR OTHERWISE, ARISING FROM,\n",
    "OUT OF OR IN CONNECTION WITH THE SOFTWARE OR THE USE OR OTHER DEALINGS IN THE\n",
    "SOFTWARE."
   ]
  }
 ],
 "metadata": {
  "kernelspec": {
   "display_name": "jupytersandbox",
   "language": "python",
   "name": "jupytersandbox"
  },
  "language_info": {
   "codemirror_mode": {
    "name": "ipython",
    "version": 3
   },
   "file_extension": ".py",
   "mimetype": "text/x-python",
   "name": "python",
   "nbconvert_exporter": "python",
   "pygments_lexer": "ipython3",
   "version": "3.12.0"
  }
 },
 "nbformat": 4,
 "nbformat_minor": 5
}
